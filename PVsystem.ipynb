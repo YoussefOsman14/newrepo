{
 "cells": [
  {
   "cell_type": "code",
   "execution_count": 4,
   "metadata": {},
   "outputs": [],
   "source": [
    "import pvlib\n",
    "import pandas as pd"
   ]
  },
  {
   "cell_type": "code",
   "execution_count": 2,
   "metadata": {},
   "outputs": [
    {
     "name": "stdout",
     "output_type": "stream",
     "text": [
      "{'pdc0': 5000, 'eta_inv_nom': 0.96}\n",
      "{'pdc0': 5000, 'gamma_pdc': -0.004}\n"
     ]
    }
   ],
   "source": [
    "# Design philosophy\n",
    "module_parameters = {'pdc0': 5000, 'gamma_pdc': -0.004}\n",
    "inverter_parameters = {'pdc0': 5000, 'eta_inv_nom': 0.96}\n",
    "system = pvlib.pvsystem.PVSystem(inverter_parameters= inverter_parameters, module_parameters= module_parameters)\n",
    "\n",
    "print(system.inverter_parameters)\n",
    "print(system.arrays[0].module_parameters)"
   ]
  },
  {
   "cell_type": "code",
   "execution_count": 3,
   "metadata": {},
   "outputs": [
    {
     "name": "stdout",
     "output_type": "stream",
     "text": [
      "4900.0\n"
     ]
    }
   ],
   "source": [
    "pdc =   system.pvwatts_dc(g_poa_effective=1000, temp_cell=30)\n",
    "print(pdc) "
   ]
  },
  {
   "cell_type": "code",
   "execution_count": 4,
   "metadata": {},
   "outputs": [
    {
     "name": "stdout",
     "output_type": "stream",
     "text": [
      "4400.0\n",
      "{'pdc0': 5000, 'gamma_pdc': -0.004, 'temp_ref': 0}\n"
     ]
    }
   ],
   "source": [
    "system.arrays[0].module_parameters['temp_ref'] = 0\n",
    "pdc= system.pvwatts_dc(1000, 30)\n",
    "\n",
    "print(pdc)\n",
    "print(system.arrays[0].module_parameters)"
   ]
  },
  {
   "cell_type": "code",
   "execution_count": 5,
   "metadata": {},
   "outputs": [
    {
     "name": "stdout",
     "output_type": "stream",
     "text": [
      "FixedMount(surface_tilt=20, surface_azimuth=180, racking_model=None, module_height=None)\n",
      "{'pdc0': 5000, 'gamma_pdc': -0.004, 'temp_ref': 0}\n",
      "{'pdc0': 5000, 'gamma_pdc': -0.004, 'temp_ref': 0}\n",
      "{'pdc0': 5000, 'eta_inv_nom': 0.96}\n"
     ]
    }
   ],
   "source": [
    "# PVSystem and Arrays\n",
    "mount = pvlib.pvsystem.FixedMount(surface_tilt= 20, surface_azimuth=180)\n",
    "print(mount)\n",
    "array_one = pvlib.pvsystem.Array(mount= mount, module_parameters=module_parameters)\n",
    "array_two = pvlib.pvsystem.Array(mount=mount, module_parameters=module_parameters)\n",
    "\n",
    "system_two_arrays = pvlib.pvsystem.PVSystem(arrays=[array_one, array_two],inverter_parameters=inverter_parameters)\n",
    "\n",
    "for array in system_two_arrays.arrays:\n",
    "    print(array.module_parameters)\n",
    "\n",
    "print(system_two_arrays.inverter_parameters)"
   ]
  },
  {
   "cell_type": "code",
   "execution_count": 8,
   "metadata": {},
   "outputs": [
    {
     "name": "stdout",
     "output_type": "stream",
     "text": [
      "FixedMount(surface_tilt=20, surface_azimuth=180, racking_model=None, module_height=None)\n"
     ]
    }
   ],
   "source": [
    "# Tilt and Azimuth\n",
    "system_one_array = pvlib.pvsystem.PVSystem(surface_tilt= 20, surface_azimuth= 180)\n",
    "print(system_one_array.arrays[0].mount)\n"
   ]
  },
  {
   "cell_type": "code",
   "execution_count": 24,
   "metadata": {},
   "outputs": [
    {
     "name": "stdout",
     "output_type": "stream",
     "text": [
      "30 90\n",
      "Array:\n",
      "  name: None\n",
      "  mount: FixedMount(surface_tilt=30, surface_azimuth=90, racking_model=None, module_height=None)\n",
      "  module: None\n",
      "  albedo: 0.25\n",
      "  module_type: None\n",
      "  temperature_model_parameters: {}\n",
      "  strings: 1\n",
      "  modules_per_string: 1\n",
      "FixedMount(surface_tilt=30, surface_azimuth=90, racking_model=None, module_height=None)\n",
      "FixedMount(surface_tilt=30, surface_azimuth=220, racking_model=None, module_height=None)\n"
     ]
    }
   ],
   "source": [
    "# Several Arrays\n",
    "array_one = pvlib.pvsystem.Array(mount= pvlib.pvsystem.FixedMount(30, 90))\n",
    "print(str(array_one.mount.surface_tilt) + \" \"+  str(array_one.mount.surface_azimuth) )\n",
    "print(array_one)\n",
    "\n",
    "array_two = pvlib.pvsystem.Array(mount= pvlib.pvsystem.FixedMount(30, 220))\n",
    "\n",
    "system = pvlib.pvsystem.PVSystem(arrays= [array_one, array_two])\n",
    "system.num_arrays\n",
    "\n",
    "for array in system.arrays:\n",
    "    print(array.mount)"
   ]
  },
  {
   "cell_type": "code",
   "execution_count": 19,
   "metadata": {},
   "outputs": [
    {
     "name": "stdout",
     "output_type": "stream",
     "text": [
      "FixedMount(surface_tilt=20, surface_azimuth=180, racking_model=None, module_height=None)\n"
     ]
    },
    {
     "data": {
      "text/plain": [
       "9.999999999999975"
      ]
     },
     "execution_count": 19,
     "metadata": {},
     "output_type": "execute_result"
    }
   ],
   "source": [
    "# get angle of incidence method\n",
    "print(system_one_array.arrays[0].mount)\n",
    "system_one_array.get_aoi(solar_zenith= 30, solar_azimuth=180)"
   ]
  },
  {
   "cell_type": "code",
   "execution_count": 26,
   "metadata": {},
   "outputs": [
    {
     "name": "stdout",
     "output_type": "stream",
     "text": [
      "FixedMount(surface_tilt=30, surface_azimuth=90, racking_model=None, module_height=None)\n"
     ]
    },
    {
     "data": {
      "text/plain": [
       "41.40962210927085"
      ]
     },
     "execution_count": 26,
     "metadata": {},
     "output_type": "execute_result"
    }
   ],
   "source": [
    "# get angle of incidence for the array instance\n",
    "print(array_one.mount)\n",
    "array_one.get_aoi(30, 180)"
   ]
  },
  {
   "cell_type": "code",
   "execution_count": 30,
   "metadata": {},
   "outputs": [
    {
     "name": "stdout",
     "output_type": "stream",
     "text": [
      "FixedMount(surface_tilt=30, surface_azimuth=90, racking_model=None, module_height=None)\n",
      "FixedMount(surface_tilt=30, surface_azimuth=220, racking_model=None, module_height=None)\n"
     ]
    },
    {
     "data": {
      "text/plain": [
       "(41.40962210927085, 19.693103879668143)"
      ]
     },
     "execution_count": 30,
     "metadata": {},
     "output_type": "execute_result"
    }
   ],
   "source": [
    "# get_aoi() also works on a system of more than one array\n",
    "print(array_one.mount)\n",
    "print(array_two.mount)\n",
    "system_two_arrays = pvlib.pvsystem.PVSystem(arrays=[array_one, array_two])\n",
    "system_two_arrays.get_aoi(30, 180)"
   ]
  },
  {
   "cell_type": "code",
   "execution_count": 32,
   "metadata": {},
   "outputs": [
    {
     "data": {
      "text/plain": [
       "(array(0.99182856), array(0.99952705))"
      ]
     },
     "execution_count": 32,
     "metadata": {},
     "output_type": "execute_result"
    }
   ],
   "source": [
    "# When a PVSystem method needs an input for each array, the input is provided as a tuple\n",
    "system_two_arrays.get_iam(system_two_arrays.get_aoi(30, 180))"
   ]
  },
  {
   "cell_type": "code",
   "execution_count": null,
   "metadata": {},
   "outputs": [],
   "source": [
    "# module and inverter parameters\n",
    "modules = pvlib.pvsystem.retrieve_sam('cecmod')\n",
    "module_parameters = modules['Canadian_Solar_Inc__CS5P_220M']\n",
    "inverters = pvlib.pvsystem.retrieve_sam('cecinverter')\n",
    "inverter_parameters = inverters['ABB__MICRO_0_25_I_OUTD_US_208__208V_']\n",
    "\n",
    "system_one_array = pvlib.pvsystem.PVSystem(module_parameters= module_parameters, inverter_parameters= inverter_parameters)"
   ]
  },
  {
   "cell_type": "code",
   "execution_count": 14,
   "metadata": {},
   "outputs": [
    {
     "name": "stdout",
     "output_type": "stream",
     "text": [
      "   v_mp  v_oc  i_mp  i_x  i_xx  i_sc  p_mp\n",
      "0     8    10     5    6     4     7    40\n",
      "   v_mp  v_oc  i_mp  i_x  i_xx  i_sc  p_mp\n",
      "0    56    70    25   30    20    35  1400\n"
     ]
    }
   ],
   "source": [
    "# module strings\n",
    "system = pvlib.pvsystem.PVSystem(modules_per_string= 7, strings_per_inverter= 5 )\n",
    "data = pd.DataFrame({'v_mp': 8, 'v_oc':10, 'i_mp': 5, 'i_x': 6,'i_xx': 4, 'i_sc': 7, 'p_mp': 40}, index=[0])\n",
    "print(data)\n",
    "scaled_data = system.scale_voltage_current_power(data)\n",
    "print(scaled_data)"
   ]
  }
 ],
 "metadata": {
  "interpreter": {
   "hash": "9677d71d680c4f1c74b3309a83e8dbe64d17f79fa2b2823b156338e665e7c6df"
  },
  "kernelspec": {
   "display_name": "Python 3.10.4 64-bit",
   "language": "python",
   "name": "python3"
  },
  "language_info": {
   "codemirror_mode": {
    "name": "ipython",
    "version": 3
   },
   "file_extension": ".py",
   "mimetype": "text/x-python",
   "name": "python",
   "nbconvert_exporter": "python",
   "pygments_lexer": "ipython3",
   "version": "3.10.4"
  },
  "orig_nbformat": 4
 },
 "nbformat": 4,
 "nbformat_minor": 2
}
